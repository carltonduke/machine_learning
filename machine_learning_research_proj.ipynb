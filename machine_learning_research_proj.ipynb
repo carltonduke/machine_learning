{
  "metadata": {
    "kernelspec": {
      "name": "python",
      "display_name": "Pyolite",
      "language": "python"
    },
    "language_info": {
      "codemirror_mode": {
        "name": "python",
        "version": 3
      },
      "file_extension": ".py",
      "mimetype": "text/x-python",
      "name": "python",
      "nbconvert_exporter": "python",
      "pygments_lexer": "ipython3",
      "version": "3.8"
    }
  },
  "nbformat_minor": 5,
  "nbformat": 4,
  "cells": [
    {
      "cell_type": "markdown",
      "source": "# Title 1 Designation Evaluation with Machine Learning\n**Author**\nCarlton Duke",
      "metadata": {},
      "id": "a7e75916"
    },
    {
      "cell_type": "markdown",
      "source": "### Project Goals\nMy goal in this project is to use the Common Core of Data (CCD) from the Department of Education to evaluate and predict poverty-stricken schools and compare the prediction against Title 1 designation.",
      "metadata": {
        "jp-MarkdownHeadingCollapsed": true,
        "tags": []
      },
      "id": "4080e16e"
    },
    {
      "cell_type": "markdown",
      "source": "### Data Gathering\nThe data for this project is pulled directly from the Department of Education's website https://nces.ed.gov/ccd/. I will be focusing on public schools in the state of Texas from 2009-10. I used the table generator to create a csv file. I selected columns that we thought pertinent to the project and ones that could provide insight into Title 1 designation. My data contains school identification information, race/ethnicity information, enrollment numbers, special program figures (reduced lunch, free lunch), Title 1 eligibility, number of teachers, and teacher/student ratios.",
      "metadata": {},
      "id": "01389188"
    },
    {
      "cell_type": "markdown",
      "source": "**Importing libraries for use in this notebook**",
      "metadata": {},
      "id": "c6873f09"
    },
    {
      "cell_type": "code",
      "source": "import pandas as pd\nimport numpy as np\nimport seaborn as sns\nimport matplotlib.pyplot as plt",
      "metadata": {},
      "execution_count": 1,
      "outputs": [],
      "id": "f43cca8d"
    },
    {
      "cell_type": "markdown",
      "source": "**Read the csv file using pandas read_csv() method**",
      "metadata": {},
      "id": "1fa3834f"
    },
    {
      "cell_type": "code",
      "source": "df= pd.read_csv(\"Project_Data.csv\")\ndf.head()",
      "metadata": {},
      "execution_count": 2,
      "outputs": [
        {
          "execution_count": 2,
          "output_type": "execute_result",
          "data": {
            "text/html": [
              "<div>\n",
              "<style scoped>\n",
              "    .dataframe tbody tr th:only-of-type {\n",
              "        vertical-align: middle;\n",
              "    }\n",
              "\n",
              "    .dataframe tbody tr th {\n",
              "        vertical-align: top;\n",
              "    }\n",
              "\n",
              "    .dataframe thead th {\n",
              "        text-align: right;\n",
              "    }\n",
              "</style>\n",
              "<table border=\"1\" class=\"dataframe\">\n",
              "  <thead>\n",
              "    <tr style=\"text-align: right;\">\n",
              "      <th></th>\n",
              "      <th>SCHOOL_NAME</th>\n",
              "      <th>STATE</th>\n",
              "      <th>SCHOOL_NAME.1</th>\n",
              "      <th>NCES_SCHOOL_ID</th>\n",
              "      <th>AGENCY_NAME</th>\n",
              "      <th>AGENCY_ID</th>\n",
              "      <th>RACE/ETHNICITY_CATS</th>\n",
              "      <th>URBAN_CENTRIC_LOCALE</th>\n",
              "      <th>SCHOOLWIDE_TITLE1</th>\n",
              "      <th>TITLE1_ELIGIBLE</th>\n",
              "      <th>...</th>\n",
              "      <th>AMERICAN_INDIAN_ALASKAN_NATIVE</th>\n",
              "      <th>ASIAN_PACIFIC_ISLANDER</th>\n",
              "      <th>HISPANIC</th>\n",
              "      <th>BLACK/AFRICAN_AMERICAN</th>\n",
              "      <th>WHITE</th>\n",
              "      <th>HAWAIIAN</th>\n",
              "      <th>2_OR_MORE_RACES</th>\n",
              "      <th>TOTAL_RACE</th>\n",
              "      <th>FULLTIME_TEACHERS</th>\n",
              "      <th>PUPIL_TEACHER_RATIO</th>\n",
              "    </tr>\n",
              "  </thead>\n",
              "  <tbody>\n",
              "    <tr>\n",
              "      <th>0</th>\n",
              "      <td>3D ACADEMY</td>\n",
              "      <td>Texas</td>\n",
              "      <td>3D ACADEMY</td>\n",
              "      <td>4.820000e+11</td>\n",
              "      <td>DONNA ISD</td>\n",
              "      <td>4817390</td>\n",
              "      <td>Reported 5 categories</td>\n",
              "      <td>21-Suburb: Large</td>\n",
              "      <td>1-Yes</td>\n",
              "      <td>1-Yes</td>\n",
              "      <td>...</td>\n",
              "      <td>0</td>\n",
              "      <td>0</td>\n",
              "      <td>125</td>\n",
              "      <td>0</td>\n",
              "      <td>2</td>\n",
              "      <td>†</td>\n",
              "      <td>†</td>\n",
              "      <td>127</td>\n",
              "      <td>7</td>\n",
              "      <td>18.14</td>\n",
              "    </tr>\n",
              "    <tr>\n",
              "      <th>1</th>\n",
              "      <td>3RD H S</td>\n",
              "      <td>Texas</td>\n",
              "      <td>3RD H S</td>\n",
              "      <td>4.850000e+11</td>\n",
              "      <td>WYLIE ISD</td>\n",
              "      <td>4846530</td>\n",
              "      <td>Reported 5 categories</td>\n",
              "      <td>21-Suburb: Large</td>\n",
              "      <td>†</td>\n",
              "      <td>†</td>\n",
              "      <td>...</td>\n",
              "      <td>†</td>\n",
              "      <td>†</td>\n",
              "      <td>†</td>\n",
              "      <td>†</td>\n",
              "      <td>†</td>\n",
              "      <td>†</td>\n",
              "      <td>†</td>\n",
              "      <td>†</td>\n",
              "      <td>†</td>\n",
              "      <td>†</td>\n",
              "    </tr>\n",
              "    <tr>\n",
              "      <th>2</th>\n",
              "      <td>6TH GRADE CENTER</td>\n",
              "      <td>Texas</td>\n",
              "      <td>6TH GRADE CENTER</td>\n",
              "      <td>4.820000e+11</td>\n",
              "      <td>GREENVILLE ISD</td>\n",
              "      <td>4821720</td>\n",
              "      <td>Reported 5 categories</td>\n",
              "      <td>32-Town: Distant</td>\n",
              "      <td>1-Yes</td>\n",
              "      <td>1-Yes</td>\n",
              "      <td>...</td>\n",
              "      <td>1</td>\n",
              "      <td>5</td>\n",
              "      <td>118</td>\n",
              "      <td>60</td>\n",
              "      <td>144</td>\n",
              "      <td>†</td>\n",
              "      <td>†</td>\n",
              "      <td>328</td>\n",
              "      <td>21.5</td>\n",
              "      <td>15.26</td>\n",
              "    </tr>\n",
              "    <tr>\n",
              "      <th>3</th>\n",
              "      <td>7TH H S - NORTHEAST</td>\n",
              "      <td>Texas</td>\n",
              "      <td>NEW ALTERNATIVE H S</td>\n",
              "      <td>4.840000e+11</td>\n",
              "      <td>ROUND ROCK ISD</td>\n",
              "      <td>4838080</td>\n",
              "      <td>Reported 5 categories</td>\n",
              "      <td>12-City: Mid-size</td>\n",
              "      <td>†</td>\n",
              "      <td>†</td>\n",
              "      <td>...</td>\n",
              "      <td>†</td>\n",
              "      <td>†</td>\n",
              "      <td>†</td>\n",
              "      <td>†</td>\n",
              "      <td>†</td>\n",
              "      <td>†</td>\n",
              "      <td>†</td>\n",
              "      <td>†</td>\n",
              "      <td>†</td>\n",
              "      <td>†</td>\n",
              "    </tr>\n",
              "    <tr>\n",
              "      <th>4</th>\n",
              "      <td>A &amp; M CONS H S</td>\n",
              "      <td>Texas</td>\n",
              "      <td>A &amp; M CONS H S</td>\n",
              "      <td>4.810000e+11</td>\n",
              "      <td>COLLEGE STATION ISD</td>\n",
              "      <td>4807350</td>\n",
              "      <td>Reported 5 categories</td>\n",
              "      <td>13-City: Small</td>\n",
              "      <td>†</td>\n",
              "      <td>2-No</td>\n",
              "      <td>...</td>\n",
              "      <td>9</td>\n",
              "      <td>242</td>\n",
              "      <td>396</td>\n",
              "      <td>338</td>\n",
              "      <td>1745</td>\n",
              "      <td>†</td>\n",
              "      <td>†</td>\n",
              "      <td>2730</td>\n",
              "      <td>175.08</td>\n",
              "      <td>15.59</td>\n",
              "    </tr>\n",
              "  </tbody>\n",
              "</table>\n",
              "<p>5 rows × 26 columns</p>\n",
              "</div>"
            ],
            "text/plain": [
              "           SCHOOL_NAME  STATE        SCHOOL_NAME.1  NCES_SCHOOL_ID  \\\n",
              "0           3D ACADEMY  Texas           3D ACADEMY    4.820000e+11   \n",
              "1              3RD H S  Texas              3RD H S    4.850000e+11   \n",
              "2     6TH GRADE CENTER  Texas     6TH GRADE CENTER    4.820000e+11   \n",
              "3  7TH H S - NORTHEAST  Texas  NEW ALTERNATIVE H S    4.840000e+11   \n",
              "4       A & M CONS H S  Texas       A & M CONS H S    4.810000e+11   \n",
              "\n",
              "           AGENCY_NAME  AGENCY_ID    RACE/ETHNICITY_CATS URBAN_CENTRIC_LOCALE  \\\n",
              "0            DONNA ISD    4817390  Reported 5 categories     21-Suburb: Large   \n",
              "1            WYLIE ISD    4846530  Reported 5 categories     21-Suburb: Large   \n",
              "2       GREENVILLE ISD    4821720  Reported 5 categories     32-Town: Distant   \n",
              "3       ROUND ROCK ISD    4838080  Reported 5 categories    12-City: Mid-size   \n",
              "4  COLLEGE STATION ISD    4807350  Reported 5 categories       13-City: Small   \n",
              "\n",
              "  SCHOOLWIDE_TITLE1 TITLE1_ELIGIBLE  ... AMERICAN_INDIAN_ALASKAN_NATIVE  \\\n",
              "0             1-Yes           1-Yes  ...                              0   \n",
              "1                 †               †  ...                              †   \n",
              "2             1-Yes           1-Yes  ...                              1   \n",
              "3                 †               †  ...                              †   \n",
              "4                 †            2-No  ...                              9   \n",
              "\n",
              "  ASIAN_PACIFIC_ISLANDER HISPANIC BLACK/AFRICAN_AMERICAN WHITE HAWAIIAN  \\\n",
              "0                      0      125                      0     2        †   \n",
              "1                      †        †                      †     †        †   \n",
              "2                      5      118                     60   144        †   \n",
              "3                      †        †                      †     †        †   \n",
              "4                    242      396                    338  1745        †   \n",
              "\n",
              "  2_OR_MORE_RACES TOTAL_RACE FULLTIME_TEACHERS PUPIL_TEACHER_RATIO  \n",
              "0               †        127                 7               18.14  \n",
              "1               †          †                 †                   †  \n",
              "2               †        328              21.5               15.26  \n",
              "3               †          †                 †                   †  \n",
              "4               †       2730            175.08               15.59  \n",
              "\n",
              "[5 rows x 26 columns]"
            ]
          },
          "metadata": {}
        }
      ],
      "id": "6b42f610"
    },
    {
      "cell_type": "code",
      "source": "df.shape",
      "metadata": {},
      "execution_count": 3,
      "outputs": [
        {
          "execution_count": 3,
          "output_type": "execute_result",
          "data": {
            "text/plain": [
              "(9166, 26)"
            ]
          },
          "metadata": {}
        }
      ],
      "id": "06b23094"
    },
    {
      "cell_type": "code",
      "source": "df.info()",
      "metadata": {},
      "execution_count": 4,
      "outputs": [
        {
          "name": "stdout",
          "output_type": "stream",
          "text": "<class 'pandas.core.frame.DataFrame'>\n\nRangeIndex: 9166 entries, 0 to 9165\n\nData columns (total 26 columns):\n\n #   Column                          Non-Null Count  Dtype  \n\n---  ------                          --------------  -----  \n\n 0   SCHOOL_NAME                     9166 non-null   object \n\n 1   STATE                           9166 non-null   object \n\n 2   SCHOOL_NAME.1                   9166 non-null   object \n\n 3   NCES_SCHOOL_ID                  9166 non-null   float64\n\n 4   AGENCY_NAME                     9166 non-null   object \n\n 5   AGENCY_ID                       9166 non-null   int64  \n\n 6   RACE/ETHNICITY_CATS             9166 non-null   object \n\n 7   URBAN_CENTRIC_LOCALE            9166 non-null   object \n\n 8   SCHOOLWIDE_TITLE1               9166 non-null   object \n\n 9   TITLE1_ELIGIBLE                 9166 non-null   object \n\n 10  TOTAL_STUDENTS                  9166 non-null   object \n\n 11  FREE_LUNCH                      9166 non-null   object \n\n 12  REDUCED_LUNCH                   9166 non-null   object \n\n 13  FREE_AND_REDUCED_LUNCH          9166 non-null   object \n\n 14  MALE_STUDENTS                   9166 non-null   object \n\n 15  FEMALE_STUDENTS                 9166 non-null   object \n\n 16  AMERICAN_INDIAN_ALASKAN_NATIVE  9166 non-null   object \n\n 17  ASIAN_PACIFIC_ISLANDER          9166 non-null   object \n\n 18  HISPANIC                        9166 non-null   object \n\n 19  BLACK/AFRICAN_AMERICAN          9166 non-null   object \n\n 20  WHITE                           9166 non-null   object \n\n 21  HAWAIIAN                        9166 non-null   object \n\n 22  2_OR_MORE_RACES                 9166 non-null   object \n\n 23  TOTAL_RACE                      9166 non-null   object \n\n 24  FULLTIME_TEACHERS               9166 non-null   object \n\n 25  PUPIL_TEACHER_RATIO             9166 non-null   object \n\ndtypes: float64(1), int64(1), object(24)\n\nmemory usage: 1.8+ MB\n"
        }
      ],
      "id": "158f94fa"
    },
    {
      "cell_type": "markdown",
      "source": "### Data Cleaning",
      "metadata": {},
      "id": "7eb29f37"
    },
    {
      "cell_type": "markdown",
      "source": "Given the data, it must be checked. NAN value replacement must happen if neccessary.",
      "metadata": {},
      "id": "18d744a8"
    },
    {
      "cell_type": "code",
      "source": "df.isna().sum()",
      "metadata": {},
      "execution_count": 5,
      "outputs": [
        {
          "execution_count": 5,
          "output_type": "execute_result",
          "data": {
            "text/plain": [
              "SCHOOL_NAME                       0\n",
              "STATE                             0\n",
              "SCHOOL_NAME.1                     0\n",
              "NCES_SCHOOL_ID                    0\n",
              "AGENCY_NAME                       0\n",
              "AGENCY_ID                         0\n",
              "RACE/ETHNICITY_CATS               0\n",
              "URBAN_CENTRIC_LOCALE              0\n",
              "SCHOOLWIDE_TITLE1                 0\n",
              "TITLE1_ELIGIBLE                   0\n",
              "TOTAL_STUDENTS                    0\n",
              "FREE_LUNCH                        0\n",
              "REDUCED_LUNCH                     0\n",
              "FREE_AND_REDUCED_LUNCH            0\n",
              "MALE_STUDENTS                     0\n",
              "FEMALE_STUDENTS                   0\n",
              "AMERICAN_INDIAN_ALASKAN_NATIVE    0\n",
              "ASIAN_PACIFIC_ISLANDER            0\n",
              "HISPANIC                          0\n",
              "BLACK/AFRICAN_AMERICAN            0\n",
              "WHITE                             0\n",
              "HAWAIIAN                          0\n",
              "2_OR_MORE_RACES                   0\n",
              "TOTAL_RACE                        0\n",
              "FULLTIME_TEACHERS                 0\n",
              "PUPIL_TEACHER_RATIO               0\n",
              "dtype: int64"
            ]
          },
          "metadata": {}
        }
      ],
      "id": "ef78c263"
    },
    {
      "cell_type": "markdown",
      "source": "Considering there are no NAN values, uneccessary columns are dropped next. Schools will be identified by their NCES ID, so all other identifying information can be dropped. ",
      "metadata": {},
      "id": "b423295a"
    },
    {
      "cell_type": "code",
      "source": "df = df.drop(columns =['SCHOOL_NAME','STATE','SCHOOL_NAME.1','AGENCY_NAME','AGENCY_ID','RACE/ETHNICITY_CATS','URBAN_CENTRIC_LOCALE',\n                       'TITLE1_ELIGIBLE','AMERICAN_INDIAN_ALASKAN_NATIVE','HAWAIIAN','2_OR_MORE_RACES','TOTAL_RACE','NCES_SCHOOL_ID'])\n#df.head()",
      "metadata": {},
      "execution_count": 6,
      "outputs": [],
      "id": "e3e38ae5"
    },
    {
      "cell_type": "markdown",
      "source": "Let's see the shape of the data to see what's been selected.",
      "metadata": {},
      "id": "58136f49"
    },
    {
      "cell_type": "code",
      "source": "df = df[df.SCHOOLWIDE_TITLE1 != '†']\ndf = df[df.TOTAL_STUDENTS != '†']\ndf = df[df.FREE_LUNCH != '†']\ndf = df[df.REDUCED_LUNCH != '†']\ndf = df[df.FREE_AND_REDUCED_LUNCH != '†']\ndf = df[df.FULLTIME_TEACHERS != '†']\ndf = df[df.PUPIL_TEACHER_RATIO != '†']\n\ndf = df[df.SCHOOLWIDE_TITLE1 != '‡']\ndf = df[df.TOTAL_STUDENTS != '‡']\ndf = df[df.FREE_LUNCH != '‡']\ndf = df[df.REDUCED_LUNCH != '‡']\ndf = df[df.FREE_AND_REDUCED_LUNCH != '‡']\ndf = df[df.FULLTIME_TEACHERS != '‡']\ndf = df[df.PUPIL_TEACHER_RATIO != '‡']\n\ndf = df[df.SCHOOLWIDE_TITLE1 != '–']\ndf = df[df.TOTAL_STUDENTS != '–']\ndf = df[df.FREE_LUNCH != '–']\ndf = df[df.REDUCED_LUNCH != '–']\ndf = df[df.FREE_AND_REDUCED_LUNCH != '–']\ndf = df[df.FULLTIME_TEACHERS != '–']\ndf = df[df.PUPIL_TEACHER_RATIO != '–']\n\ndf.head()",
      "metadata": {},
      "execution_count": 7,
      "outputs": [
        {
          "execution_count": 7,
          "output_type": "execute_result",
          "data": {
            "text/html": [
              "<div>\n",
              "<style scoped>\n",
              "    .dataframe tbody tr th:only-of-type {\n",
              "        vertical-align: middle;\n",
              "    }\n",
              "\n",
              "    .dataframe tbody tr th {\n",
              "        vertical-align: top;\n",
              "    }\n",
              "\n",
              "    .dataframe thead th {\n",
              "        text-align: right;\n",
              "    }\n",
              "</style>\n",
              "<table border=\"1\" class=\"dataframe\">\n",
              "  <thead>\n",
              "    <tr style=\"text-align: right;\">\n",
              "      <th></th>\n",
              "      <th>SCHOOLWIDE_TITLE1</th>\n",
              "      <th>TOTAL_STUDENTS</th>\n",
              "      <th>FREE_LUNCH</th>\n",
              "      <th>REDUCED_LUNCH</th>\n",
              "      <th>FREE_AND_REDUCED_LUNCH</th>\n",
              "      <th>MALE_STUDENTS</th>\n",
              "      <th>FEMALE_STUDENTS</th>\n",
              "      <th>ASIAN_PACIFIC_ISLANDER</th>\n",
              "      <th>HISPANIC</th>\n",
              "      <th>BLACK/AFRICAN_AMERICAN</th>\n",
              "      <th>WHITE</th>\n",
              "      <th>FULLTIME_TEACHERS</th>\n",
              "      <th>PUPIL_TEACHER_RATIO</th>\n",
              "    </tr>\n",
              "  </thead>\n",
              "  <tbody>\n",
              "    <tr>\n",
              "      <th>0</th>\n",
              "      <td>1-Yes</td>\n",
              "      <td>127</td>\n",
              "      <td>81</td>\n",
              "      <td>4</td>\n",
              "      <td>85</td>\n",
              "      <td>48</td>\n",
              "      <td>79</td>\n",
              "      <td>0</td>\n",
              "      <td>125</td>\n",
              "      <td>0</td>\n",
              "      <td>2</td>\n",
              "      <td>7</td>\n",
              "      <td>18.14</td>\n",
              "    </tr>\n",
              "    <tr>\n",
              "      <th>2</th>\n",
              "      <td>1-Yes</td>\n",
              "      <td>328</td>\n",
              "      <td>0</td>\n",
              "      <td>36</td>\n",
              "      <td>36</td>\n",
              "      <td>162</td>\n",
              "      <td>166</td>\n",
              "      <td>5</td>\n",
              "      <td>118</td>\n",
              "      <td>60</td>\n",
              "      <td>144</td>\n",
              "      <td>21.5</td>\n",
              "      <td>15.26</td>\n",
              "    </tr>\n",
              "    <tr>\n",
              "      <th>6</th>\n",
              "      <td>1-Yes</td>\n",
              "      <td>449</td>\n",
              "      <td>311</td>\n",
              "      <td>36</td>\n",
              "      <td>347</td>\n",
              "      <td>238</td>\n",
              "      <td>211</td>\n",
              "      <td>2</td>\n",
              "      <td>331</td>\n",
              "      <td>22</td>\n",
              "      <td>94</td>\n",
              "      <td>31.88</td>\n",
              "      <td>14.08</td>\n",
              "    </tr>\n",
              "    <tr>\n",
              "      <th>7</th>\n",
              "      <td>1-Yes</td>\n",
              "      <td>856</td>\n",
              "      <td>643</td>\n",
              "      <td>77</td>\n",
              "      <td>720</td>\n",
              "      <td>455</td>\n",
              "      <td>401</td>\n",
              "      <td>2</td>\n",
              "      <td>326</td>\n",
              "      <td>290</td>\n",
              "      <td>238</td>\n",
              "      <td>46.58</td>\n",
              "      <td>18.38</td>\n",
              "    </tr>\n",
              "    <tr>\n",
              "      <th>8</th>\n",
              "      <td>1-Yes</td>\n",
              "      <td>256</td>\n",
              "      <td>145</td>\n",
              "      <td>35</td>\n",
              "      <td>180</td>\n",
              "      <td>127</td>\n",
              "      <td>129</td>\n",
              "      <td>5</td>\n",
              "      <td>116</td>\n",
              "      <td>20</td>\n",
              "      <td>114</td>\n",
              "      <td>25.13</td>\n",
              "      <td>10.19</td>\n",
              "    </tr>\n",
              "  </tbody>\n",
              "</table>\n",
              "</div>"
            ],
            "text/plain": [
              "  SCHOOLWIDE_TITLE1 TOTAL_STUDENTS FREE_LUNCH REDUCED_LUNCH  \\\n",
              "0             1-Yes            127         81             4   \n",
              "2             1-Yes            328          0            36   \n",
              "6             1-Yes            449        311            36   \n",
              "7             1-Yes            856        643            77   \n",
              "8             1-Yes            256        145            35   \n",
              "\n",
              "  FREE_AND_REDUCED_LUNCH MALE_STUDENTS FEMALE_STUDENTS ASIAN_PACIFIC_ISLANDER  \\\n",
              "0                     85            48              79                      0   \n",
              "2                     36           162             166                      5   \n",
              "6                    347           238             211                      2   \n",
              "7                    720           455             401                      2   \n",
              "8                    180           127             129                      5   \n",
              "\n",
              "  HISPANIC BLACK/AFRICAN_AMERICAN WHITE FULLTIME_TEACHERS PUPIL_TEACHER_RATIO  \n",
              "0      125                      0     2                 7               18.14  \n",
              "2      118                     60   144              21.5               15.26  \n",
              "6      331                     22    94             31.88               14.08  \n",
              "7      326                    290   238             46.58               18.38  \n",
              "8      116                     20   114             25.13               10.19  "
            ]
          },
          "metadata": {}
        }
      ],
      "id": "f8b592e5"
    },
    {
      "cell_type": "markdown",
      "source": "Let's see the shape of the data.",
      "metadata": {},
      "id": "066cdddb"
    },
    {
      "cell_type": "code",
      "source": "df.info()\ndf.shape",
      "metadata": {},
      "execution_count": 8,
      "outputs": [
        {
          "name": "stdout",
          "output_type": "stream",
          "text": "<class 'pandas.core.frame.DataFrame'>\n\nInt64Index: 6564 entries, 0 to 9165\n\nData columns (total 13 columns):\n\n #   Column                  Non-Null Count  Dtype \n\n---  ------                  --------------  ----- \n\n 0   SCHOOLWIDE_TITLE1       6564 non-null   object\n\n 1   TOTAL_STUDENTS          6564 non-null   object\n\n 2   FREE_LUNCH              6564 non-null   object\n\n 3   REDUCED_LUNCH           6564 non-null   object\n\n 4   FREE_AND_REDUCED_LUNCH  6564 non-null   object\n\n 5   MALE_STUDENTS           6564 non-null   object\n\n 6   FEMALE_STUDENTS         6564 non-null   object\n\n 7   ASIAN_PACIFIC_ISLANDER  6564 non-null   object\n\n 8   HISPANIC                6564 non-null   object\n\n 9   BLACK/AFRICAN_AMERICAN  6564 non-null   object\n\n 10  WHITE                   6564 non-null   object\n\n 11  FULLTIME_TEACHERS       6564 non-null   object\n\n 12  PUPIL_TEACHER_RATIO     6564 non-null   object\n\ndtypes: object(13)\n\nmemory usage: 717.9+ KB\n"
        },
        {
          "execution_count": 8,
          "output_type": "execute_result",
          "data": {
            "text/plain": [
              "(6564, 13)"
            ]
          },
          "metadata": {}
        }
      ],
      "id": "efd49727"
    },
    {
      "cell_type": "markdown",
      "source": "6594 rows with 19 columns has been selected.",
      "metadata": {},
      "id": "bd693580"
    },
    {
      "cell_type": "markdown",
      "source": "## Feature Normalization and Selection",
      "metadata": {},
      "id": "586943d5"
    },
    {
      "cell_type": "markdown",
      "source": "After cleaning up the data, I normalize the data we are going to use for modeling. The column SCHOOLWIDE_TITLE1 needs to be normalized. 1-Yes will become 1 and 2-NO will become 0. A column will be created to find the percentage of students on free and reduced lunch out of total students.",
      "metadata": {},
      "id": "567031c3"
    },
    {
      "cell_type": "code",
      "source": "df = df.replace(\"1-Yes\",1)\ndf = df.replace(\"2-No\",0)\n#df.head()",
      "metadata": {},
      "execution_count": 9,
      "outputs": [],
      "id": "620e70ef"
    },
    {
      "cell_type": "markdown",
      "source": "Next, I created a column that shows the percentage of students on free or reduced lunch out of total students. This information can be used to determine the poverty level of a school. I dropped the columns pertaining to free and reduced lunch.",
      "metadata": {},
      "id": "670f4205"
    },
    {
      "cell_type": "code",
      "source": "df['PERCENT_FREE_OR_REDUCED_LUNCH'] = (df['FREE_AND_REDUCED_LUNCH'].astype(int) / df['TOTAL_STUDENTS'].astype(int)) * 100\ndf.drop(columns=['FREE_LUNCH','REDUCED_LUNCH','FREE_AND_REDUCED_LUNCH'], inplace=True)\n#df.head()",
      "metadata": {},
      "execution_count": 10,
      "outputs": [],
      "id": "b2f4dc64"
    },
    {
      "cell_type": "code",
      "source": "sns.pairplot(df)\nsns.catplot(data=df, y='PERCENT_FREE_OR_REDUCED_LUNCH',x='SCHOOLWIDE_TITLE1',kind='bar')",
      "metadata": {},
      "execution_count": 11,
      "outputs": [
        {
          "execution_count": 11,
          "output_type": "execute_result",
          "data": {
            "text/plain": [
              "<seaborn.axisgrid.FacetGrid at 0x24add7431f0>"
            ]
          },
          "metadata": {}
        },
        {
          "output_type": "display_data",
          "data": {
            "image/png": "[encoded data removed]",
            "text/plain": [
              "<Figure size 360x360 with 6 Axes>"
            ]
          },
          "metadata": {
            "needs_background": "light"
          }
        },
        {
          "output_type": "display_data",
          "data": {
            "image/png": "[encoded data removed]",
            "text/plain": [
              "<Figure size 360x360 with 1 Axes>"
            ]
          },
          "metadata": {
            "needs_background": "light"
          }
        }
      ],
      "id": "39a7977d"
    },
    {
      "cell_type": "markdown",
      "source": "New labels needed to be created to indicate poverty level. I used the percent free or reduced lunch as a proxy of poverty level. The labels are as follows: 2 - SP - Strict Poverty (high threshold); 1 - HP - High Poverty (more inclusive), and 0 - no poverty.",
      "metadata": {},
      "id": "f67d1e4e"
    },
    {
      "cell_type": "code",
      "source": "df['HIGH_POVERTY'] = df.PERCENT_FREE_OR_REDUCED_LUNCH.apply(lambda x:0 if x<40 else (1 if x<60 else 0))\ndf['STRICT_POVERTY'] = df.PERCENT_FREE_OR_REDUCED_LUNCH.apply(lambda x:0 if x<60 else 1) ",
      "metadata": {},
      "execution_count": 12,
      "outputs": [],
      "id": "c571b4ac"
    },
    {
      "cell_type": "markdown",
      "source": "This heatmap helps find correlation between features.",
      "metadata": {},
      "id": "7777b628"
    },
    {
      "cell_type": "code",
      "source": "import matplotlib.pyplot as plt\nplt.figure(figsize=(12,12))\nsns.heatmap(df.corr(),annot=True,cmap='coolwarm',vmin=-1)\n\ncol = [\"PERCENT_FREE_OR_REDUCED_LUNCH\", \"FULLTIME_TEACHERS\", \"PUPIL_TEACHER_RATIO\",\"PERCENT_FREE_OR_REDUCED_LUNCH\"]\ndf.drop(columns=col, inplace=True)",
      "metadata": {},
      "execution_count": 13,
      "outputs": [
        {
          "output_type": "display_data",
          "data": {
            "image/png": "[encoded data removed]",
            "text/plain": [
              "<Figure size 864x864 with 2 Axes>"
            ]
          },
          "metadata": {
            "needs_background": "light"
          }
        }
      ],
      "id": "03aae874"
    },
    {
      "cell_type": "markdown",
      "source": "## Figures and Exploratory Data Analysis",
      "metadata": {},
      "id": "517473f7"
    },
    {
      "cell_type": "markdown",
      "source": "These vigures visualizing the labels help show results. The first one is a cat plot that shows that Title 1 schools have more poverty on average which is to be expected.",
      "metadata": {},
      "id": "455ef7eb"
    },
    {
      "cell_type": "markdown",
      "source": "#### High Poverty & Strict Poverty",
      "metadata": {},
      "id": "3a425f1f"
    },
    {
      "cell_type": "code",
      "source": "sns.catplot(data=df, y='HIGH_POVERTY',x='SCHOOLWIDE_TITLE1',kind='bar')\nsns.catplot(data=df, y='STRICT_POVERTY',x='SCHOOLWIDE_TITLE1',kind='bar')",
      "metadata": {},
      "execution_count": 14,
      "outputs": [
        {
          "execution_count": 14,
          "output_type": "execute_result",
          "data": {
            "text/plain": [
              "<seaborn.axisgrid.FacetGrid at 0x24adda0f7c0>"
            ]
          },
          "metadata": {}
        },
        {
          "output_type": "display_data",
          "data": {
            "image/png": "[encoded data removed]",
            "text/plain": [
              "<Figure size 360x360 with 1 Axes>"
            ]
          },
          "metadata": {
            "needs_background": "light"
          }
        },
        {
          "output_type": "display_data",
          "data": {
            "image/png": "[encoded data removed]",
            "text/plain": [
              "<Figure size 360x360 with 1 Axes>"
            ]
          },
          "metadata": {
            "needs_background": "light"
          }
        }
      ],
      "id": "ae9d046c"
    },
    {
      "cell_type": "markdown",
      "source": "#### Correlation Heatmap",
      "metadata": {},
      "id": "b5efc881"
    },
    {
      "cell_type": "code",
      "source": "import matplotlib.pyplot as plt\nplt.figure(figsize=(12,12))\nsns.heatmap(df.corr(),annot=True,cmap='coolwarm',vmin=-1)",
      "metadata": {},
      "execution_count": 15,
      "outputs": [
        {
          "execution_count": 15,
          "output_type": "execute_result",
          "data": {
            "text/plain": [
              "<AxesSubplot:>"
            ]
          },
          "metadata": {}
        },
        {
          "output_type": "display_data",
          "data": {
            "image/png": "[encoded data removed]",
            "text/plain": [
              "<Figure size 864x864 with 2 Axes>"
            ]
          },
          "metadata": {
            "needs_background": "light"
          }
        }
      ],
      "id": "70f598bc"
    },
    {
      "cell_type": "markdown",
      "source": "## Data Modeling - Logistic Regression",
      "metadata": {},
      "id": "17ba5f92"
    },
    {
      "cell_type": "markdown",
      "source": "#### Setup Data for Modeling",
      "metadata": {},
      "id": "a971e9dc"
    },
    {
      "cell_type": "code",
      "source": "from sklearn.linear_model import LogisticRegression\nfrom sklearn.metrics import plot_confusion_matrix\nfrom sklearn.metrics import confusion_matrix\nfrom mlxtend.plotting import plot_confusion_matrix\nimport matplotlib.pyplot as plt\nfrom sklearn.model_selection import train_test_split\n\ny1 = df.SCHOOLWIDE_TITLE1.values\nx1 = df[[i for i in list(df.columns) if i != 'SCHOOLWIDE_TITLE1']].values\n\ny2 = df.STRICT_POVERTY.values\nx2 = df[[i for i in list(df.columns) if i != 'STRICT_POVERTY']].values\n\ny3 = df.HIGH_POVERTY.values\nx3 = df[[i for i in list(df.columns) if i != 'HIGH_POVERTY']].values\n\nxtrain1, xtest1, ytrain1, ytest1 = train_test_split(x1,y1, test_size=.2, random_state=1, stratify=y1)\nxtrain2, xtest2, ytrain2, ytest2 = train_test_split(x2,y2, test_size=.2, random_state=1, stratify=y2)\nxtrain3, xtest3, ytrain3, ytest3 = train_test_split(x3,y3, test_size=.2, random_state=1, stratify=y3)",
      "metadata": {},
      "execution_count": 16,
      "outputs": [],
      "id": "e6b2ba5e"
    },
    {
      "cell_type": "markdown",
      "source": "#### Train Model | Schoolwide Title1",
      "metadata": {},
      "id": "b18bbbee"
    },
    {
      "cell_type": "markdown",
      "source": "Finally, data modeleing. The model used here will be logistic regression. This created a model to predict values y for column SCHOOLWIDE_TITLE1.",
      "metadata": {},
      "id": "6d9cd65a"
    },
    {
      "cell_type": "code",
      "source": "clf=LogisticRegression()\n\nclf.fit(xtrain1,ytrain1)\n\nprint(clf.score(xtest1,ytest1))\n\nypred=clf.predict(xtest1)",
      "metadata": {},
      "execution_count": 17,
      "outputs": [
        {
          "name": "stdout",
          "output_type": "stream",
          "text": "0.9535415079969536\n"
        },
        {
          "name": "stderr",
          "output_type": "stream",
          "text": "D:\\Program Files\\Anaconda\\lib\\site-packages\\sklearn\\linear_model\\_logistic.py:763: ConvergenceWarning: lbfgs failed to converge (status=1):\n\nSTOP: TOTAL NO. of ITERATIONS REACHED LIMIT.\n\n\n\nIncrease the number of iterations (max_iter) or scale the data as shown in:\n\n    https://scikit-learn.org/stable/modules/preprocessing.html\n\nPlease also refer to the documentation for alternative solver options:\n\n    https://scikit-learn.org/stable/modules/linear_model.html#logistic-regression\n\n  n_iter_i = _check_optimize_result(\n"
        }
      ],
      "id": "379b4d9a"
    },
    {
      "cell_type": "markdown",
      "source": "#### Train Model | Strict Poverty",
      "metadata": {},
      "id": "7e8a99f5"
    },
    {
      "cell_type": "markdown",
      "source": "Then create a logistic regression model to predict values y for Strict Poverty.",
      "metadata": {},
      "id": "8a98011e"
    },
    {
      "cell_type": "code",
      "source": "clf = LogisticRegression()\n\nclf.fit(xtrain2,ytrain2)\n\nprint(clf.score(xtest2,ytest2))\n\nypred=clf.predict(xtest2)",
      "metadata": {},
      "execution_count": 18,
      "outputs": [
        {
          "name": "stdout",
          "output_type": "stream",
          "text": "0.8400609291698401\n"
        },
        {
          "name": "stderr",
          "output_type": "stream",
          "text": "D:\\Program Files\\Anaconda\\lib\\site-packages\\sklearn\\linear_model\\_logistic.py:763: ConvergenceWarning: lbfgs failed to converge (status=1):\n\nSTOP: TOTAL NO. of ITERATIONS REACHED LIMIT.\n\n\n\nIncrease the number of iterations (max_iter) or scale the data as shown in:\n\n    https://scikit-learn.org/stable/modules/preprocessing.html\n\nPlease also refer to the documentation for alternative solver options:\n\n    https://scikit-learn.org/stable/modules/linear_model.html#logistic-regression\n\n  n_iter_i = _check_optimize_result(\n"
        }
      ],
      "id": "3a35fe13"
    },
    {
      "cell_type": "markdown",
      "source": "#### Train Model | High Poverty",
      "metadata": {},
      "id": "b7b260a5"
    },
    {
      "cell_type": "markdown",
      "source": "This will create a logistic regression model to predict values y for High Poverty.",
      "metadata": {},
      "id": "9dc6d568"
    },
    {
      "cell_type": "code",
      "source": "clf = LogisticRegression()\n\nclf.fit(xtrain3,ytrain3)\n\nprint(clf.score(xtest3,ytest3))\n\nypred=clf.predict(xtest3)",
      "metadata": {},
      "execution_count": 19,
      "outputs": [
        {
          "name": "stdout",
          "output_type": "stream",
          "text": "0.8796648895658796\n"
        },
        {
          "name": "stderr",
          "output_type": "stream",
          "text": "D:\\Program Files\\Anaconda\\lib\\site-packages\\sklearn\\linear_model\\_logistic.py:763: ConvergenceWarning: lbfgs failed to converge (status=1):\n\nSTOP: TOTAL NO. of ITERATIONS REACHED LIMIT.\n\n\n\nIncrease the number of iterations (max_iter) or scale the data as shown in:\n\n    https://scikit-learn.org/stable/modules/preprocessing.html\n\nPlease also refer to the documentation for alternative solver options:\n\n    https://scikit-learn.org/stable/modules/linear_model.html#logistic-regression\n\n  n_iter_i = _check_optimize_result(\n"
        }
      ],
      "id": "9b444ba0"
    },
    {
      "cell_type": "markdown",
      "source": "## Compare Models",
      "metadata": {},
      "id": "e4ce697c"
    },
    {
      "cell_type": "code",
      "source": "from sklearn.metrics import plot_confusion_matrix\nfrom sklearn.metrics import confusion_matrix\nfrom mlxtend.plotting import plot_confusion_matrix\nimport matplotlib.pyplot as plt\nimport seaborn as sns",
      "metadata": {},
      "execution_count": 20,
      "outputs": [],
      "id": "513548a7"
    },
    {
      "cell_type": "code",
      "source": "# Predict the title 1 designation label\nypred1=clf.predict(xtest1)\n\n# Predict the strict poverty label\nypred2=clf.predict(xtest2)\n\n# Predict the high poverty label\nypred3=clf.predict(xtest3)\n\nlabels=[0,1]\nnewdf = pd.DataFrame({'Title1 Label':ytest1,'SP Label':ytest2, 'HP Label':ytest3,'Title1':ypred1, 'Strict Poverty':ypred2, 'High Poverty':ypred3}) \n\n# Plot the correlation matrix\nplt.figure(figsize=(8,8))\nsns.heatmap(newdf.corr(),annot=True,cmap='coolwarm',vmin=-1)\n",
      "metadata": {},
      "execution_count": 21,
      "outputs": [
        {
          "execution_count": 21,
          "output_type": "execute_result",
          "data": {
            "text/plain": [
              "<AxesSubplot:>"
            ]
          },
          "metadata": {}
        },
        {
          "output_type": "display_data",
          "data": {
            "image/png": "[encoded data removed]",
            "text/plain": [
              "<Figure size 576x576 with 2 Axes>"
            ]
          },
          "metadata": {
            "needs_background": "light"
          }
        }
      ],
      "id": "6cc8c6c0"
    },
    {
      "cell_type": "markdown",
      "source": "## Exploratory Data & Model Analysis",
      "metadata": {},
      "id": "0a967366"
    },
    {
      "cell_type": "markdown",
      "source": "##### Feature Standardization\n\nIn order to compare features on the same scale, I needed to standardize their values. For the poverty index, I put the number of students in special programs over the total number of students. This gave a value from 0-1 that could be used to evaulate a school's poverty level. I also relabeled schools that were Title 1 to 1 and those that weren't to 0. In order to get rid of null values we first used df.isna().sum() to see if there were any cells that didn't have any contents. Every cell did have something. However, some of the contents were not usable ('‡', '†', '-') so I dropped the rows containing those cells.",
      "metadata": {},
      "id": "d48066e9"
    },
    {
      "cell_type": "markdown",
      "source": "##### Feature Selection \n\nI dropped all variables except for 10 as I saw these variables would give the best correlation for the models. I reduced the number of input variables to both reduce the computational cost of the modeling and improve the performance of the model. I cleaned up the features with a high percentage of not applicable values and normalized the data for modeling. I tried to use Agency_Name and Agency_ID in the feature selection but, could find no correlation for the models we tried to make so we dropped them.",
      "metadata": {},
      "id": "742e69ef"
    },
    {
      "cell_type": "markdown",
      "source": "##### Machine Learning Algorithm\n\nI went with a supervised machine learning algorithm because the problem hinges on the use of labeled data. There are too many features and variation between the columns for unsupervised to be feasible.\n\nA classification algorithm seems like the good choice in this scenario, and was what we explored intitially. I tried Linear SVC first, because we were predicting a category, had labeled data, and had less than 100k data samples. Despite this, the algorithm was still too performance heavy, taking up to thirty minutes to train a single model. Considering that I was training one for each ground truth label, that was not acceptable. Following that, I attempted KNneighbors, but continually ran into issues like overfitting. After adjusting the data for some time, I were unable to resolve this issue.\n\nI considered linear regression, but considering that my \"Strict Poverty\" and \"High Poverty\" labels were based on hard-coded thresholds, I went with logistic regression. It was the best for binomial classification. It was the best trade-off between effciency and accuracy compared to my previous model attempts.\n",
      "metadata": {},
      "id": "b4e82dae"
    },
    {
      "cell_type": "markdown",
      "source": "##### Final Selection Pipeline & Model Evaluation \n\nI decided on linear regression as our final model selection. I considered LinearSVN and KNNeighbor, as both were better suited to classification. Linear regression was my final choice because it most consistently had the highest classification accuracy compared to the other models, and considering I had a decent number of features (9), I wanted a model that accounted for them.\n\nAfter evaluating the model on previously unseen test data, I saw the following results:",
      "metadata": {},
      "id": "7540890a"
    },
    {
      "cell_type": "code",
      "source": "# Title1                        # Strict Poverty           # High Poverty\nprint(clf.score(xtest1,ytest1), clf.score(xtest2,ytest2), clf.score(xtest3,ytest3))",
      "metadata": {},
      "execution_count": 38,
      "outputs": [
        {
          "name": "stdout",
          "output_type": "stream",
          "text": "0.952018278750952 0.8095963442498096 0.8796648895658796\n"
        }
      ],
      "id": "6b7c3481"
    },
    {
      "cell_type": "markdown",
      "source": "For classifying schools as Title 1 designated: **% 95**\n\nFor classifying schools as Strict Poverty:  **% 81**\n\nFor classifying schools as High Poverty: **% 88**",
      "metadata": {},
      "id": "02561b91"
    },
    {
      "cell_type": "code",
      "source": "",
      "metadata": {},
      "execution_count": null,
      "outputs": [],
      "id": "b112ce05"
    }
  ]
}
